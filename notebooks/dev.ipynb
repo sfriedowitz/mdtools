{
 "cells": [
  {
   "cell_type": "code",
   "execution_count": 1,
   "metadata": {},
   "outputs": [],
   "source": [
    "%load_ext autoreload\n",
    "%autoreload 2"
   ]
  },
  {
   "cell_type": "code",
   "execution_count": 2,
   "metadata": {},
   "outputs": [],
   "source": [
    "import sys\n",
    "import numpy as np\n",
    "\n",
    "import MDAnalysis as mda\n",
    "from MDAnalysis.lib.mdamath import triclinic_vectors"
   ]
  },
  {
   "cell_type": "code",
   "execution_count": 201,
   "metadata": {},
   "outputs": [],
   "source": [
    "sys.path.insert(0, \"../\")\n",
    "\n",
    "import mdtools\n",
    "from mdtools.lib.distances import *\n",
    "\n",
    "# Custom scripts\n",
    "from mdtools.system.chemistry import *\n",
    "from mdtools.system.species import *\n",
    "from mdtools.system.system import *\n",
    "\n",
    "from mdtools.tools.builders import build_multi_polyion"
   ]
  },
  {
   "cell_type": "markdown",
   "metadata": {},
   "source": [
    "# Testing"
   ]
  },
  {
   "cell_type": "code",
   "execution_count": 203,
   "metadata": {},
   "outputs": [],
   "source": [
    "from mdtools.lib.fourier import fourier_integrate\n",
    "from mdtools.tools.fitting import MultiColeCole"
   ]
  },
  {
   "cell_type": "code",
   "execution_count": 204,
   "metadata": {},
   "outputs": [
    {
     "data": {
      "text/plain": [
       "{'A': array([27.85299754,  2.73475279]),\n",
       " 'tau': array([5.55549910e+00, 1.83646443e+07]),\n",
       " 'beta': array([0.99999424, 0.88405023])}"
      ]
     },
     "execution_count": 204,
     "metadata": {},
     "output_type": "execute_result"
    }
   ],
   "source": [
    "t = np.linspace(0.0, 5000, 5000)\n",
    "fx = 5.0*np.exp(-t/5.0)**0.9# + 2.0*np.exp(-t/20.0)**0.75\n",
    "\n",
    "k, chi = fourier_integrate(t, fx)\n",
    "\n",
    "hn = len(k)//2 + 1\n",
    "k = k[hn:]\n",
    "chi = chi[hn:]\n",
    "\n",
    "model = MultiColeCole(nterms = 2)\n",
    "model.fit(k, chi,  p0 = [50.0, 25.0, 5.0, 20.0, 0.9, 0.75])\n",
    "\n",
    "chi_fit = model.evaluate(k)\n",
    "\n",
    "model.param_dict"
   ]
  },
  {
   "cell_type": "code",
   "execution_count": 205,
   "metadata": {},
   "outputs": [
    {
     "data": {
      "image/png": "[encoded data removed]",
      "text/plain": [
       "<Figure size 432x288 with 1 Axes>"
      ]
     },
     "metadata": {
      "needs_background": "light"
     },
     "output_type": "display_data"
    }
   ],
   "source": [
    "plt.scatter(k, chi.real, c = \"gray\")\n",
    "plt.scatter(k, -chi.imag, c = \"gray\")\n",
    "\n",
    "\n",
    "plt.plot(k, chi_fit.real, c = \"k\", ls = \"dashed\")\n",
    "plt.plot(k, -chi_fit.imag, c = \"k\", ls = \"dashed\")\n",
    "\n",
    "plt.xscale(\"log\")\n",
    "plt.yscale(\"linear\")\n",
    "\n",
    "plt.show()"
   ]
  },
  {
   "cell_type": "code",
   "execution_count": null,
   "metadata": {},
   "outputs": [],
   "source": []
  }
 ],
 "metadata": {
  "kernelspec": {
   "display_name": "Python 3",
   "language": "python",
   "name": "python3"
  },
  "language_info": {
   "codemirror_mode": {
    "name": "ipython",
    "version": 3
   },
   "file_extension": ".py",
   "mimetype": "text/x-python",
   "name": "python",
   "nbconvert_exporter": "python",
   "pygments_lexer": "ipython3",
   "version": "3.7.6"
  },
  "toc": {
   "base_numbering": 1,
   "nav_menu": {},
   "number_sections": true,
   "sideBar": true,
   "skip_h1_title": false,
   "title_cell": "Table of Contents",
   "title_sidebar": "Contents",
   "toc_cell": false,
   "toc_position": {},
   "toc_section_display": true,
   "toc_window_display": false
  }
 },
 "nbformat": 4,
 "nbformat_minor": 4
}
